{
  "cells": [
    {
      "cell_type": "code",
      "execution_count": null,
      "metadata": {
        "id": "CGdCB7ng-f_B"
      },
      "outputs": [],
      "source": [
        "import pandas as pd\n",
        "import numpy as np"
      ]
    },
    {
      "cell_type": "code",
      "source": [
        "pip install dask[complete]"
      ],
      "metadata": {
        "id": "grsvbic_3pgp"
      },
      "execution_count": null,
      "outputs": []
    },
    {
      "cell_type": "code",
      "source": [
        "pip install requests"
      ],
      "metadata": {
        "id": "oPDua6hT4KHG"
      },
      "execution_count": null,
      "outputs": []
    },
    {
      "cell_type": "code",
      "source": [
        "pip install aiohttp"
      ],
      "metadata": {
        "colab": {
          "base_uri": "https://localhost:8080/"
        },
        "id": "vQgHWuvw4qW0",
        "outputId": "84268522-4664-476d-bcbc-1817ebd8d4a4"
      },
      "execution_count": null,
      "outputs": [
        {
          "output_type": "stream",
          "name": "stdout",
          "text": [
            "Collecting aiohttp\n",
            "  Downloading aiohttp-3.8.1-cp37-cp37m-manylinux_2_5_x86_64.manylinux1_x86_64.manylinux_2_12_x86_64.manylinux2010_x86_64.whl (1.1 MB)\n",
            "\u001b[K     |████████████████████████████████| 1.1 MB 5.2 MB/s \n",
            "\u001b[?25hCollecting yarl<2.0,>=1.0\n",
            "  Downloading yarl-1.7.2-cp37-cp37m-manylinux_2_5_x86_64.manylinux1_x86_64.manylinux_2_12_x86_64.manylinux2010_x86_64.whl (271 kB)\n",
            "\u001b[K     |████████████████████████████████| 271 kB 45.2 MB/s \n",
            "\u001b[?25hRequirement already satisfied: attrs>=17.3.0 in /usr/local/lib/python3.7/dist-packages (from aiohttp) (21.4.0)\n",
            "Collecting multidict<7.0,>=4.5\n",
            "  Downloading multidict-6.0.2-cp37-cp37m-manylinux_2_17_x86_64.manylinux2014_x86_64.whl (94 kB)\n",
            "\u001b[K     |████████████████████████████████| 94 kB 2.9 MB/s \n",
            "\u001b[?25hCollecting aiosignal>=1.1.2\n",
            "  Downloading aiosignal-1.2.0-py3-none-any.whl (8.2 kB)\n",
            "Collecting async-timeout<5.0,>=4.0.0a3\n",
            "  Downloading async_timeout-4.0.2-py3-none-any.whl (5.8 kB)\n",
            "Requirement already satisfied: charset-normalizer<3.0,>=2.0 in /usr/local/lib/python3.7/dist-packages (from aiohttp) (2.0.12)\n",
            "Collecting asynctest==0.13.0\n",
            "  Downloading asynctest-0.13.0-py3-none-any.whl (26 kB)\n",
            "Requirement already satisfied: typing-extensions>=3.7.4 in /usr/local/lib/python3.7/dist-packages (from aiohttp) (3.10.0.2)\n",
            "Collecting frozenlist>=1.1.1\n",
            "  Downloading frozenlist-1.3.0-cp37-cp37m-manylinux_2_5_x86_64.manylinux1_x86_64.manylinux_2_17_x86_64.manylinux2014_x86_64.whl (144 kB)\n",
            "\u001b[K     |████████████████████████████████| 144 kB 47.5 MB/s \n",
            "\u001b[?25hRequirement already satisfied: idna>=2.0 in /usr/local/lib/python3.7/dist-packages (from yarl<2.0,>=1.0->aiohttp) (2.10)\n",
            "Installing collected packages: multidict, frozenlist, yarl, asynctest, async-timeout, aiosignal, aiohttp\n",
            "Successfully installed aiohttp-3.8.1 aiosignal-1.2.0 async-timeout-4.0.2 asynctest-0.13.0 frozenlist-1.3.0 multidict-6.0.2 yarl-1.7.2\n"
          ]
        }
      ]
    },
    {
      "cell_type": "code",
      "execution_count": null,
      "metadata": {
        "id": "3VNPhFRr-waD"
      },
      "outputs": [],
      "source": [
        "data_set = []\n",
        "def load_all_data_from_s3():\n",
        "  for i in range(1, 13):\n",
        "    url = f\"https://s3.amazonaws.com/nyc-tlc/trip+data/yellow_tripdata_2019-{i}.csv\"\n",
        "    print(\"reading\", i)\n",
        "    data = pd.read_csv(url)\n",
        "    data.to_csv('data/yellow_tripdata_2019-{i}.csv')\n",
        "    print(\"data set generated for month\", i)\n",
        "load_all_data_from_s3()"
      ]
    },
    {
      "cell_type": "code",
      "execution_count": null,
      "metadata": {
        "colab": {
          "background_save": true
        },
        "id": "kZLKWC0f_f2d"
      },
      "outputs": [],
      "source": [
        "import requests\n",
        "from tqdm import tqdm\n",
        "import concurrent.futures\n",
        "\n",
        "CHUNK_SIZE = 1024 # KB\n",
        "\n",
        "\n",
        "def get_url(month):\n",
        "  count = f\"0{month}\" if month < 10 else f\"{month}\"\n",
        "  return f\"https://s3.amazonaws.com/nyc-tlc/trip+data/yellow_tripdata_2019-{count}.csv\"\n",
        "\n",
        "\n",
        "\n",
        "\n",
        "def download_file_for_month(month):\n",
        "  url = get_url(month)\n",
        "  r = requests.get(url, stream=True)\n",
        "  file_size = int(r.headers[\"content-length\"])\n",
        "  with open(f\"data/yellow_tripdata_2019-{month}.csv\", \"wb\") as f:\n",
        "    for data in tqdm(iterable=r.iter_content(chunk_size=CHUNK_SIZE), total=file_size/CHUNK_SIZE, unit=\"KB\"):\n",
        "      f.write(data)\n",
        "  print(f\"downloaded data set for month {month}\")\n",
        "\n",
        "\n",
        "\n",
        "with concurrent.futures.ThreadPoolExecutor(max_workers=12) as executor:\n",
        "    executor.map(download_file_for_month, range(1, 13))"
      ]
    },
    {
      "cell_type": "code",
      "execution_count": null,
      "metadata": {
        "id": "xXxablvxCVd5"
      },
      "outputs": [],
      "source": [
        "data = pd.read_csv('./data/yellow_tripdata_2019-1.csv')"
      ]
    },
    {
      "cell_type": "code",
      "execution_count": null,
      "metadata": {
        "id": "wYyOj43RJa4w"
      },
      "outputs": [],
      "source": [
        "data.tip_amount.sum()"
      ]
    },
    {
      "cell_type": "code",
      "execution_count": null,
      "metadata": {
        "id": "NwI34ySyJcEM"
      },
      "outputs": [],
      "source": [
        "%%time\n",
        "from re import S\n",
        "SEQ_SUM = []\n",
        "SEQ_COUNT = []\n",
        "def calc_mean(count):\n",
        "  global SEQ_COUNT\n",
        "  global SEQ_SUM\n",
        "  path = f\"https://s3.amazonaws.com/nyc-tlc/trip+data/yellow_tripdata_2019-{count if count > 9 else f'0{count}'}.csv\"\n",
        "  print('loading file', count)\n",
        "  data = pd.read_csv(path)\n",
        "  data = data[~data.passenger_count.isnull()]\n",
        "  SEQ_COUNT.append(data.groupby(['passenger_count']).passenger_count.count())\n",
        "  SEQ_SUM.append(data.groupby(['passenger_count']).tip_amount.sum())\n",
        "\n",
        "\n",
        "print(\"calculating mean sequencially\")\n",
        "for i in range(1,13):\n",
        "  calc_mean(i)\n",
        "  \n",
        "\n",
        "MONTHS = ['jan', 'feb', 'mar', 'apr', 'may', 'june', 'july', 'aug', 'sept', 'oct', 'nov', 'dec']\n",
        "\n",
        "sum_dict = {}\n",
        "count_dict = {}\n",
        "\n",
        "for i in range(12):\n",
        "  sum_dict[MONTHS[i]] = list(SEQ_SUM[i])\n",
        "  count_dict[MONTHS[i]] = SEQ_COUNT[i]\n",
        "\n",
        "\n",
        "\n",
        "SEQ_SUM = pd.DataFrame(sum_dict)\n",
        "SEQ_COUNT = pd.DataFrame(count_dict)\n",
        "\n",
        "SEQ_SUM['total'] = SEQ_SUM.sum(axis='columns')\n",
        "SEQ_COUNT['total'] = SEQ_COUNT.sum(axis='columns')\n",
        "\n",
        "SEQ_MEAN = SEQ_SUM/SEQ_COUNT\n",
        "SEQ_MEAN.head(10)"
      ]
    },
    {
      "cell_type": "code",
      "source": [
        "SEQ_MEAN.head(10)"
      ],
      "metadata": {
        "id": "zH6V1pVRYDDl"
      },
      "execution_count": null,
      "outputs": []
    },
    {
      "cell_type": "code",
      "execution_count": null,
      "metadata": {
        "id": "P9DKHmAeigHR"
      },
      "outputs": [],
      "source": [
        "from dask.distributed import Client\n",
        "\n",
        "client = Client(n_workers = 4, )"
      ]
    },
    {
      "cell_type": "code",
      "execution_count": null,
      "metadata": {
        "id": "Aadro6v1PAFh"
      },
      "outputs": [],
      "source": [
        "# %%time\n",
        "from dask import delayed, compute\n",
        "import dask.array as da\n",
        "PAR_SUM = []\n",
        "PAR_COUNT = []\n",
        "\n",
        "def calc_mean_parallel(count):\n",
        "  global PAR_COUNT\n",
        "  global PAR_SUM\n",
        "  path = f\"https://s3.amazonaws.com/nyc-tlc/trip+data/yellow_tripdata_2019-{count}.csv\"\n",
        "  print('loading file', count)\n",
        "  data = delayed(pd.read_csv)(path)\n",
        "  PAR_COUNT.append(delayed(len)(data.index))\n",
        "  PAR_SUM.append(delayed(data.tip_amount.sum)())\n",
        "\n",
        "print(\"calculating mean parallelly\")\n",
        "for i in range(1, 2):\n",
        "  calc_mean_parallel(i)\n",
        "\n",
        "PAR_SUM, PAR_COUNT = compute(PAR_SUM, PAR_COUNT)\n",
        "total_sum = sum(PAR_SUM)\n",
        "total_count = sum(PAR_COUNT)\n",
        "\n",
        "def get_mean(sum, count):\n",
        "  return sum/count\n",
        "\n",
        "mean = get_mean(total_sum, total_count)\n",
        "print(\"calculated mean = \", mean)\n",
        "client.close()"
      ]
    },
    {
      "cell_type": "code",
      "source": [
        "import dask.dataframe as dd\n",
        "import pandas as pd"
      ],
      "metadata": {
        "id": "9FrIlwDLG2ws"
      },
      "execution_count": null,
      "outputs": []
    },
    {
      "cell_type": "code",
      "execution_count": null,
      "metadata": {
        "colab": {
          "base_uri": "https://localhost:8080/"
        },
        "id": "dHWwIS04bPyU",
        "outputId": "b0dbe4db-15e4-4618-911a-0263fc3c2bd7"
      },
      "outputs": [
        {
          "output_type": "stream",
          "name": "stderr",
          "text": [
            "/usr/local/lib/python3.7/dist-packages/dask/utils.py:30: DtypeWarning: Columns (6) have mixed types.Specify dtype option on import or set low_memory=False.\n",
            "  return func(*args, **kwargs)\n",
            "/usr/local/lib/python3.7/dist-packages/dask/utils.py:30: DtypeWarning: Columns (6) have mixed types.Specify dtype option on import or set low_memory=False.\n",
            "  return func(*args, **kwargs)\n",
            "/usr/local/lib/python3.7/dist-packages/dask/utils.py:30: DtypeWarning: Columns (6) have mixed types.Specify dtype option on import or set low_memory=False.\n",
            "  return func(*args, **kwargs)\n",
            "/usr/local/lib/python3.7/dist-packages/dask/utils.py:30: DtypeWarning: Columns (6) have mixed types.Specify dtype option on import or set low_memory=False.\n",
            "  return func(*args, **kwargs)\n",
            "/usr/local/lib/python3.7/dist-packages/dask/utils.py:30: DtypeWarning: Columns (6) have mixed types.Specify dtype option on import or set low_memory=False.\n",
            "  return func(*args, **kwargs)\n",
            "/usr/local/lib/python3.7/dist-packages/dask/utils.py:30: DtypeWarning: Columns (6) have mixed types.Specify dtype option on import or set low_memory=False.\n",
            "  return func(*args, **kwargs)\n"
          ]
        },
        {
          "output_type": "stream",
          "name": "stdout",
          "text": [
            "CPU times: user 5min 33s, sys: 23.8 s, total: 5min 57s\n",
            "Wall time: 4min 15s\n"
          ]
        }
      ],
      "source": [
        "%%time\n",
        "f1 = dd.read_csv([f\"https://s3.amazonaws.com/nyc-tlc/trip+data/yellow_tripdata_2019-{count if count > 9 else f'0{count}'}.csv\" for count in range(1, 13)], assume_missing=True)\n",
        "\n",
        "f1['month'] = f1[\"tpep_pickup_datetime\"].map(lambda x: x[5:7])\n",
        "df2 = f1.groupby(['month', 'passenger_count']).tip_amount.mean().compute().copy()\n"
      ]
    },
    {
      "cell_type": "code",
      "execution_count": null,
      "metadata": {
        "id": "44NoP_WR8otm",
        "colab": {
          "base_uri": "https://localhost:8080/"
        },
        "outputId": "2ba0dacc-610d-4972-d10a-6fa51a000189"
      },
      "outputs": [
        {
          "output_type": "stream",
          "name": "stdout",
          "text": [
            "month                  01        02        03        04        05         06  \\\n",
            "passenger_count                                                                \n",
            "0.0              1.786901  2.118501  2.164586  2.137596  2.159605   2.173099   \n",
            "1.0              1.828296  2.166410  2.243850  2.221788  2.269483   2.274122   \n",
            "2.0              1.833885  2.162850  2.211074  2.207993  2.256493   2.269000   \n",
            "3.0              1.795886  2.122192  2.167051  2.145546  2.181260   2.200480   \n",
            "4.0              1.702349  2.030184  2.081816  2.019339  2.055789   2.086528   \n",
            "5.0              1.869870  2.213183  2.263571  2.252356  2.292741   2.300534   \n",
            "6.0              1.856687  2.182663  2.231159  2.247027  2.279954   2.289813   \n",
            "7.0              6.542632  7.917333  5.888750  7.404828  7.079667   5.295745   \n",
            "8.0              6.480690  5.617500  7.149444  6.810417  6.121290   5.828824   \n",
            "9.0              3.116667  7.980714  6.064583  5.872632  4.173889  10.318889   \n",
            "\n",
            "month                   07        08        09        10         11         12  \n",
            "passenger_count                                                                 \n",
            "0.0               2.083597  2.085614  2.190378  2.210009   2.167561   2.147058  \n",
            "1.0               2.200519  2.183493  2.295356  2.302184   2.271339   2.258882  \n",
            "2.0               2.218734  2.199773  2.304088  2.313097   2.291641   2.316971  \n",
            "3.0               2.125444  2.118826  2.206029  2.205129   2.183685   2.215802  \n",
            "4.0               1.993039  1.981864  2.095114  2.087215   2.079549   2.067258  \n",
            "5.0               2.235357  2.212266  2.332128  2.330560   2.304295   2.282296  \n",
            "6.0               2.228756  2.201275  2.324703  2.334759   2.286177   2.277281  \n",
            "7.0               6.391034  7.427750  6.506552  8.147632   6.399250   5.934889  \n",
            "8.0               6.118182  7.337500  7.154783  6.928400   9.777222  12.180000  \n",
            "9.0              10.244375  4.553158  7.380800  5.505000  11.054545   8.946250  \n"
          ]
        }
      ],
      "source": [
        "\n",
        "MONTHS = ['jan', 'feb', 'mar', 'apr', 'may', 'june', 'july', 'aug', 'sept', 'oct', 'nov', 'dec']\n",
        "df2 = df2.unstack().T\n",
        "df2 = df2.rename(columns = dict(list(zip(f1.columns, MONTHS))))\n",
        "print(df2)"
      ]
    },
    {
      "cell_type": "code",
      "source": [
        "sum_df = f1.groupby(['month', 'passenger_count']).tip_amount.sum().compute().copy()\n",
        "sum_df = sum_df.unstack().T\n",
        "sum_df = sum_df.rename(columns = dict(list(zip(f1.columns, MONTHS))))"
      ],
      "metadata": {
        "colab": {
          "base_uri": "https://localhost:8080/"
        },
        "id": "DnHdNXkaJmI3",
        "outputId": "eab27487-6a7c-4233-9e6f-e2ef05d1040b"
      },
      "execution_count": null,
      "outputs": [
        {
          "output_type": "stream",
          "name": "stderr",
          "text": [
            "/usr/local/lib/python3.7/dist-packages/dask/utils.py:30: DtypeWarning: Columns (6) have mixed types.Specify dtype option on import or set low_memory=False.\n",
            "  return func(*args, **kwargs)\n",
            "/usr/local/lib/python3.7/dist-packages/dask/utils.py:30: DtypeWarning: Columns (6) have mixed types.Specify dtype option on import or set low_memory=False.\n",
            "  return func(*args, **kwargs)\n",
            "/usr/local/lib/python3.7/dist-packages/dask/utils.py:30: DtypeWarning: Columns (6) have mixed types.Specify dtype option on import or set low_memory=False.\n",
            "  return func(*args, **kwargs)\n",
            "/usr/local/lib/python3.7/dist-packages/dask/utils.py:30: DtypeWarning: Columns (6) have mixed types.Specify dtype option on import or set low_memory=False.\n",
            "  return func(*args, **kwargs)\n",
            "/usr/local/lib/python3.7/dist-packages/dask/utils.py:30: DtypeWarning: Columns (6) have mixed types.Specify dtype option on import or set low_memory=False.\n",
            "  return func(*args, **kwargs)\n",
            "/usr/local/lib/python3.7/dist-packages/dask/utils.py:30: DtypeWarning: Columns (6) have mixed types.Specify dtype option on import or set low_memory=False.\n",
            "  return func(*args, **kwargs)\n"
          ]
        }
      ]
    },
    {
      "cell_type": "code",
      "execution_count": null,
      "metadata": {
        "colab": {
          "base_uri": "https://localhost:8080/"
        },
        "id": "5YQ7yGRUCiWZ",
        "outputId": "c5f06981-71f7-45ac-e763-4299027ac39b"
      },
      "outputs": [
        {
          "output_type": "stream",
          "name": "stderr",
          "text": [
            "/usr/local/lib/python3.7/dist-packages/dask/utils.py:30: DtypeWarning: Columns (6) have mixed types.Specify dtype option on import or set low_memory=False.\n",
            "  return func(*args, **kwargs)\n",
            "/usr/local/lib/python3.7/dist-packages/dask/utils.py:30: DtypeWarning: Columns (6) have mixed types.Specify dtype option on import or set low_memory=False.\n",
            "  return func(*args, **kwargs)\n",
            "/usr/local/lib/python3.7/dist-packages/dask/utils.py:30: DtypeWarning: Columns (6) have mixed types.Specify dtype option on import or set low_memory=False.\n",
            "  return func(*args, **kwargs)\n",
            "/usr/local/lib/python3.7/dist-packages/dask/utils.py:30: DtypeWarning: Columns (6) have mixed types.Specify dtype option on import or set low_memory=False.\n",
            "  return func(*args, **kwargs)\n",
            "/usr/local/lib/python3.7/dist-packages/dask/utils.py:30: DtypeWarning: Columns (6) have mixed types.Specify dtype option on import or set low_memory=False.\n",
            "  return func(*args, **kwargs)\n",
            "/usr/local/lib/python3.7/dist-packages/dask/utils.py:30: DtypeWarning: Columns (6) have mixed types.Specify dtype option on import or set low_memory=False.\n",
            "  return func(*args, **kwargs)\n"
          ]
        }
      ],
      "source": [
        "count_df = f1.groupby(['month', 'passenger_count']).passenger_count.count().compute().copy()\n",
        "count_df = count_df.unstack().T\n",
        "count_df = count_df.rename(columns = dict(list(zip(f1.columns, MONTHS))))"
      ]
    },
    {
      "cell_type": "code",
      "source": [
        "sum_df['total'] = sum_df.sum(axis='columns')\n",
        "count_df['total'] = count_df.sum(axis='columns')\n",
        "print(sum_df/count_df)"
      ],
      "metadata": {
        "colab": {
          "base_uri": "https://localhost:8080/"
        },
        "id": "R0AOVNXwBvl8",
        "outputId": "6da422ce-8b98-42d0-d0be-fb1fbfe927b2"
      },
      "execution_count": null,
      "outputs": [
        {
          "output_type": "stream",
          "name": "stdout",
          "text": [
            "month                  01        02        03        04        05         06  \\\n",
            "passenger_count                                                                \n",
            "0.0              1.786901  2.118501  2.164586  2.137596  2.159605   2.173099   \n",
            "1.0              1.828296  2.166410  2.243850  2.221788  2.269483   2.274122   \n",
            "2.0              1.833885  2.162850  2.211074  2.207993  2.256493   2.269000   \n",
            "3.0              1.795886  2.122192  2.167051  2.145546  2.181260   2.200480   \n",
            "4.0              1.702349  2.030184  2.081816  2.019339  2.055789   2.086528   \n",
            "5.0              1.869870  2.213183  2.263571  2.252356  2.292741   2.300534   \n",
            "6.0              1.856687  2.182663  2.231159  2.247027  2.279954   2.289813   \n",
            "7.0              6.542632  7.917333  5.888750  7.404828  7.079667   5.295745   \n",
            "8.0              6.480690  5.617500  7.149444  6.810417  6.121290   5.828824   \n",
            "9.0              3.116667  7.980714  6.064583  5.872632  4.173889  10.318889   \n",
            "\n",
            "month                   07        08        09        10         11  \\\n",
            "passenger_count                                                       \n",
            "0.0               2.083597  2.085614  2.190378  2.210009   2.167561   \n",
            "1.0               2.200519  2.183493  2.295356  2.302184   2.271339   \n",
            "2.0               2.218734  2.199773  2.304088  2.313097   2.291641   \n",
            "3.0               2.125444  2.118826  2.206029  2.205129   2.183685   \n",
            "4.0               1.993039  1.981864  2.095114  2.087215   2.079549   \n",
            "5.0               2.235357  2.212266  2.332128  2.330560   2.304295   \n",
            "6.0               2.228756  2.201275  2.324703  2.334759   2.286177   \n",
            "7.0               6.391034  7.427750  6.506552  8.147632   6.399250   \n",
            "8.0               6.118182  7.337500  7.154783  6.928400   9.777222   \n",
            "9.0              10.244375  4.553158  7.380800  5.505000  11.054545   \n",
            "\n",
            "month                   12      total  \n",
            "passenger_count                        \n",
            "0.0               2.147058   4.245578  \n",
            "1.0               2.258882   4.413579  \n",
            "2.0               2.316971   4.428612  \n",
            "3.0               2.215802   4.275551  \n",
            "4.0               2.067258   4.047609  \n",
            "5.0               2.282296   4.470882  \n",
            "6.0               2.277281   4.442210  \n",
            "7.0               5.934889  13.351923  \n",
            "8.0              12.180000  14.223249  \n",
            "9.0               8.946250  14.755644  \n"
          ]
        }
      ]
    }
  ],
  "metadata": {
    "colab": {
      "collapsed_sections": [],
      "name": "2019UGCS024R_Lab6.ipynb",
      "provenance": []
    },
    "kernelspec": {
      "display_name": "Python 3",
      "name": "python3"
    },
    "language_info": {
      "name": "python"
    }
  },
  "nbformat": 4,
  "nbformat_minor": 0
}