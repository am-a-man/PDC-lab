{
  "nbformat": 4,
  "nbformat_minor": 0,
  "metadata": {
    "colab": {
      "name": "PDC_lab7.ipynb",
      "provenance": [],
      "collapsed_sections": []
    },
    "kernelspec": {
      "name": "python3",
      "display_name": "Python 3"
    },
    "language_info": {
      "name": "python"
    }
  },
  "cells": [
    {
      "cell_type": "code",
      "execution_count": 1,
      "metadata": {
        "id": "kpQZBIOz1NBy"
      },
      "outputs": [],
      "source": [
        "import os\n",
        "import numpy as np\n",
        "\n",
        "import tensorflow as tf\n",
        "from tensorflow.keras.datasets import mnist\n",
        "# from tensorflow.contrib.eager.python import tfe"
      ]
    },
    {
      "cell_type": "code",
      "source": [
        ""
      ],
      "metadata": {
        "id": "Ed0kGXex3Wac"
      },
      "execution_count": 1,
      "outputs": []
    },
    {
      "cell_type": "code",
      "source": [
        "# enable eager mode\n",
        "# tf.enable_eager_execution()\n",
        "# tf.set_random_seed(0)\n",
        "# np.random.seed(0)"
      ],
      "metadata": {
        "id": "r5gqLiDN3IAw"
      },
      "execution_count": 2,
      "outputs": []
    },
    {
      "cell_type": "code",
      "source": [
        "# constants\n",
        "batch_size = 128\n",
        "epochs = 10\n",
        "num_classes = 10"
      ],
      "metadata": {
        "id": "zDZDse3c3JGs"
      },
      "execution_count": 3,
      "outputs": []
    },
    {
      "cell_type": "code",
      "source": [
        "# dataset loading\n",
        "(x_train, y_train), (x_test, y_test) = mnist.load_data()\n",
        "\n",
        "# normalization of dataset\n",
        "x_train = x_train.astype('float32') / 255.\n",
        "x_test = x_test.astype('float32') / 255.\n",
        "\n",
        "# flatten the dataset\n",
        "x_train = x_train.reshape((-1, 28 * 28))\n",
        "x_test = x_test.reshape((-1, 28 * 28))\n",
        "\n",
        "# one hot encode the labels. convert back to numpy as we cannot use a combination of numpy\n",
        "# and tensors as input to keras\n",
        "y_train_ohe = tf.one_hot(y_train, depth=num_classes).numpy()\n",
        "y_test_ohe = tf.one_hot(y_test, depth=num_classes).numpy()\n",
        "\n",
        "print('x train', x_train.shape)\n",
        "print('y train', y_train_ohe.shape)\n",
        "print('x test', x_test.shape)\n",
        "print('y test', y_test_ohe.shape)"
      ],
      "metadata": {
        "colab": {
          "base_uri": "https://localhost:8080/"
        },
        "id": "nUcGxKo43KM2",
        "outputId": "68425e8f-a663-47e4-975c-0ff161ca462c"
      },
      "execution_count": 4,
      "outputs": [
        {
          "output_type": "stream",
          "name": "stdout",
          "text": [
            "x train (60000, 784)\n",
            "y train (60000, 10)\n",
            "x test (10000, 784)\n",
            "y test (10000, 10)\n"
          ]
        }
      ]
    },
    {
      "cell_type": "code",
      "source": [
        "# model definition (canonical way)\n",
        "class LogisticRegression(tf.keras.Model):\n",
        "\n",
        "    def __init__(self, num_classes):\n",
        "        super(LogisticRegression, self).__init__()\n",
        "        self.dense = tf.keras.layers.Dense(num_classes)\n",
        "\n",
        "    def call(self, inputs, training=None, mask=None):\n",
        "        output = self.dense(inputs)\n",
        "\n",
        "        # softmax op does not exist on the gpu\n",
        "        with tf.device('/cpu:0'):\n",
        "            output = tf.nn.softmax(output)\n",
        "\n",
        "        return output"
      ],
      "metadata": {
        "id": "cSFkdydg3LXr"
      },
      "execution_count": 5,
      "outputs": []
    },
    {
      "cell_type": "code",
      "source": [
        "def startTraining():\n",
        "  device = '/cpu:0'\n",
        "\n",
        "  with tf.device(device):\n",
        "      # build model and optimizer\n",
        "      model = LogisticRegression(num_classes)\n",
        "      model.compile(optimizer=tf.optimizers.SGD(learning_rate= 0.01,name='SGD' ), loss='categorical_crossentropy',\n",
        "                    metrics=['accuracy'])\n",
        "      \n",
        "      # TF Keras tries to use entire dataset to determine shape without this step when using .fit()\n",
        "      # Fix = Use exactly one sample from the provided input dataset to determine input/output shape/s for the model\n",
        "      dummy_x = tf.zeros((1, 28 * 28))\n",
        "      model._set_inputs(dummy_x)\n",
        "\n",
        "      # train\n",
        "      model.fit(x_train, y_train_ohe, batch_size=batch_size, epochs=epochs,\n",
        "                validation_data=(x_test, y_test_ohe), verbose=2)\n",
        "\n",
        "      # evaluate on test set\n",
        "      scores = model.evaluate(x_test, y_test_ohe, batch_size, verbose=2)\n",
        "      print(\"Final test loss and accuracy :\", scores)\n"
      ],
      "metadata": {
        "id": "V3S30ex53NWa"
      },
      "execution_count": 6,
      "outputs": []
    },
    {
      "cell_type": "code",
      "source": [
        ""
      ],
      "metadata": {
        "id": "ZMWA2nNp8YRQ"
      },
      "execution_count": 6,
      "outputs": []
    },
    {
      "cell_type": "code",
      "source": [
        "%%time\n",
        "startTraining()"
      ],
      "metadata": {
        "colab": {
          "base_uri": "https://localhost:8080/"
        },
        "id": "uvrT-u5h3Qd-",
        "outputId": "0d8e6f66-c5a5-4c38-caa8-9d0ee5dee646"
      },
      "execution_count": 11,
      "outputs": [
        {
          "output_type": "stream",
          "name": "stdout",
          "text": [
            "Epoch 1/10\n",
            "469/469 - 2s - loss: 1.2721 - accuracy: 0.7028 - val_loss: 0.8112 - val_accuracy: 0.8305 - 2s/epoch - 5ms/step\n",
            "Epoch 2/10\n",
            "469/469 - 1s - loss: 0.7157 - accuracy: 0.8398 - val_loss: 0.6101 - val_accuracy: 0.8612 - 763ms/epoch - 2ms/step\n",
            "Epoch 3/10\n",
            "469/469 - 1s - loss: 0.5881 - accuracy: 0.8593 - val_loss: 0.5291 - val_accuracy: 0.8715 - 736ms/epoch - 2ms/step\n",
            "Epoch 4/10\n",
            "469/469 - 1s - loss: 0.5268 - accuracy: 0.8683 - val_loss: 0.4832 - val_accuracy: 0.8781 - 762ms/epoch - 2ms/step\n",
            "Epoch 5/10\n",
            "469/469 - 1s - loss: 0.4893 - accuracy: 0.8748 - val_loss: 0.4531 - val_accuracy: 0.8841 - 791ms/epoch - 2ms/step\n",
            "Epoch 6/10\n",
            "469/469 - 1s - loss: 0.4635 - accuracy: 0.8797 - val_loss: 0.4320 - val_accuracy: 0.8879 - 711ms/epoch - 2ms/step\n",
            "Epoch 7/10\n",
            "469/469 - 1s - loss: 0.4443 - accuracy: 0.8831 - val_loss: 0.4156 - val_accuracy: 0.8911 - 721ms/epoch - 2ms/step\n",
            "Epoch 8/10\n",
            "469/469 - 1s - loss: 0.4294 - accuracy: 0.8862 - val_loss: 0.4025 - val_accuracy: 0.8941 - 772ms/epoch - 2ms/step\n",
            "Epoch 9/10\n",
            "469/469 - 1s - loss: 0.4172 - accuracy: 0.8888 - val_loss: 0.3920 - val_accuracy: 0.8972 - 711ms/epoch - 2ms/step\n",
            "Epoch 10/10\n",
            "469/469 - 1s - loss: 0.4071 - accuracy: 0.8909 - val_loss: 0.3830 - val_accuracy: 0.8994 - 707ms/epoch - 2ms/step\n",
            "79/79 - 0s - loss: 0.3830 - accuracy: 0.8994 - 94ms/epoch - 1ms/step\n",
            "Final test loss and accuracy : [0.38303589820861816, 0.899399995803833]\n",
            "CPU times: user 9.77 s, sys: 704 ms, total: 10.5 s\n",
            "Wall time: 9.24 s\n"
          ]
        }
      ]
    },
    {
      "cell_type": "code",
      "source": [
        ""
      ],
      "metadata": {
        "id": "Ujdyxbh-5C51"
      },
      "execution_count": 10,
      "outputs": []
    },
    {
      "cell_type": "code",
      "source": [
        ""
      ],
      "metadata": {
        "id": "GRWpYXy25uKo"
      },
      "execution_count": 10,
      "outputs": []
    },
    {
      "cell_type": "code",
      "source": [
        "\n"
      ],
      "metadata": {
        "id": "E13zFX8t6Blc"
      },
      "execution_count": 10,
      "outputs": []
    },
    {
      "cell_type": "code",
      "source": [
        ""
      ],
      "metadata": {
        "id": "95FlTBEc6n99"
      },
      "execution_count": 10,
      "outputs": []
    },
    {
      "cell_type": "code",
      "source": [
        ""
      ],
      "metadata": {
        "id": "1JhQtuwX6tWS"
      },
      "execution_count": null,
      "outputs": []
    }
  ]
}