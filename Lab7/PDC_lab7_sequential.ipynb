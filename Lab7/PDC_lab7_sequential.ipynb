{
  "nbformat": 4,
  "nbformat_minor": 0,
  "metadata": {
    "colab": {
      "name": "PDC_lab7_part2.ipynb",
      "provenance": [],
      "collapsed_sections": []
    },
    "kernelspec": {
      "name": "python3",
      "display_name": "Python 3"
    },
    "language_info": {
      "name": "python"
    }
  },
  "cells": [
    {
      "cell_type": "code",
      "execution_count": 1,
      "metadata": {
        "id": "kpQZBIOz1NBy"
      },
      "outputs": [],
      "source": [
        "import os\n",
        "import numpy as np\n",
        "\n",
        "import tensorflow as tf\n",
        "from tensorflow.keras.datasets import mnist\n",
        "# from tensorflow.contrib.eager.python import tfe"
      ]
    },
    {
      "cell_type": "code",
      "source": [
        ""
      ],
      "metadata": {
        "id": "Ed0kGXex3Wac"
      },
      "execution_count": 1,
      "outputs": []
    },
    {
      "cell_type": "code",
      "source": [
        "# enable eager mode\n",
        "# tf.enable_eager_execution()\n",
        "# tf.set_random_seed(0)\n",
        "# np.random.seed(0)"
      ],
      "metadata": {
        "id": "r5gqLiDN3IAw"
      },
      "execution_count": 2,
      "outputs": []
    },
    {
      "cell_type": "code",
      "source": [
        "# constants\n",
        "num_threads = 1\n",
        "tf.config.threading.set_inter_op_parallelism_threads(num_threads)\n",
        "tf.config.threading.set_intra_op_parallelism_threads(num_threads)\n",
        "batch_size = 128\n",
        "epochs = 10\n",
        "num_classes = 10"
      ],
      "metadata": {
        "id": "zDZDse3c3JGs"
      },
      "execution_count": 3,
      "outputs": []
    },
    {
      "cell_type": "code",
      "source": [
        "# dataset loading\n",
        "(x_train, y_train), (x_test, y_test) = mnist.load_data()\n",
        "\n",
        "# normalization of dataset\n",
        "x_train = x_train.astype('float32') / 255.\n",
        "x_test = x_test.astype('float32') / 255.\n",
        "\n",
        "# flatten the dataset\n",
        "x_train = x_train.reshape((-1, 28 * 28))\n",
        "x_test = x_test.reshape((-1, 28 * 28))\n",
        "\n",
        "# one hot encode the labels. convert back to numpy as we cannot use a combination of numpy\n",
        "# and tensors as input to keras\n",
        "y_train_ohe = tf.one_hot(y_train, depth=num_classes).numpy()\n",
        "y_test_ohe = tf.one_hot(y_test, depth=num_classes).numpy()\n",
        "\n",
        "print('x train', x_train.shape)\n",
        "print('y train', y_train_ohe.shape)\n",
        "print('x test', x_test.shape)\n",
        "print('y test', y_test_ohe.shape)"
      ],
      "metadata": {
        "colab": {
          "base_uri": "https://localhost:8080/"
        },
        "id": "nUcGxKo43KM2",
        "outputId": "027457e5-2f9d-4d8f-a12d-3607647ee302"
      },
      "execution_count": 4,
      "outputs": [
        {
          "output_type": "stream",
          "name": "stdout",
          "text": [
            "Downloading data from https://storage.googleapis.com/tensorflow/tf-keras-datasets/mnist.npz\n",
            "11493376/11490434 [==============================] - 0s 0us/step\n",
            "11501568/11490434 [==============================] - 0s 0us/step\n",
            "x train (60000, 784)\n",
            "y train (60000, 10)\n",
            "x test (10000, 784)\n",
            "y test (10000, 10)\n"
          ]
        }
      ]
    },
    {
      "cell_type": "code",
      "source": [
        "# model definition (canonical way)\n",
        "class LogisticRegression(tf.keras.Model):\n",
        "\n",
        "    def __init__(self, num_classes):\n",
        "        super(LogisticRegression, self).__init__()\n",
        "        self.dense = tf.keras.layers.Dense(num_classes)\n",
        "\n",
        "    def call(self, inputs, training=None, mask=None):\n",
        "        output = self.dense(inputs)\n",
        "\n",
        "        # softmax op does not exist on the gpu\n",
        "        with tf.device('/cpu:0'):\n",
        "            output = tf.nn.softmax(output)\n",
        "\n",
        "        return output"
      ],
      "metadata": {
        "id": "cSFkdydg3LXr"
      },
      "execution_count": 5,
      "outputs": []
    },
    {
      "cell_type": "code",
      "source": [
        "def startTraining():\n",
        "  device = '/cpu:0'\n",
        "\n",
        "  with tf.device(device):\n",
        "      # build model and optimizer\n",
        "      model = LogisticRegression(num_classes)\n",
        "      model.compile(optimizer=tf.optimizers.SGD(learning_rate= 0.01,name='SGD' ), loss='categorical_crossentropy',\n",
        "                    metrics=['accuracy'])\n",
        "      \n",
        "      # TF Keras tries to use entire dataset to determine shape without this step when using .fit()\n",
        "      # Fix = Use exactly one sample from the provided input dataset to determine input/output shape/s for the model\n",
        "      dummy_x = tf.zeros((1, 28 * 28))\n",
        "      model._set_inputs(dummy_x)\n",
        "\n",
        "      # train\n",
        "      model.fit(x_train, y_train_ohe, batch_size=batch_size, epochs=epochs,\n",
        "                validation_data=(x_test, y_test_ohe), verbose=2)\n",
        "\n",
        "      # evaluate on test set\n",
        "      scores = model.evaluate(x_test, y_test_ohe, batch_size, verbose=2)\n",
        "      print(\"Final test loss and accuracy :\", scores)\n"
      ],
      "metadata": {
        "id": "V3S30ex53NWa"
      },
      "execution_count": 6,
      "outputs": []
    },
    {
      "cell_type": "code",
      "source": [
        ""
      ],
      "metadata": {
        "id": "ZMWA2nNp8YRQ"
      },
      "execution_count": 6,
      "outputs": []
    },
    {
      "cell_type": "code",
      "source": [
        "%%time\n",
        "startTraining()"
      ],
      "metadata": {
        "colab": {
          "base_uri": "https://localhost:8080/"
        },
        "id": "uvrT-u5h3Qd-",
        "outputId": "3db52aed-c965-4b8d-a53f-63264db282f9"
      },
      "execution_count": 7,
      "outputs": [
        {
          "output_type": "stream",
          "name": "stdout",
          "text": [
            "Epoch 1/10\n",
            "469/469 - 4s - loss: 1.2562 - accuracy: 0.7123 - val_loss: 0.7978 - val_accuracy: 0.8396 - 4s/epoch - 8ms/step\n",
            "Epoch 2/10\n",
            "469/469 - 2s - loss: 0.7070 - accuracy: 0.8466 - val_loss: 0.5997 - val_accuracy: 0.8649 - 2s/epoch - 4ms/step\n",
            "Epoch 3/10\n",
            "469/469 - 2s - loss: 0.5820 - accuracy: 0.8618 - val_loss: 0.5210 - val_accuracy: 0.8759 - 2s/epoch - 5ms/step\n",
            "Epoch 4/10\n",
            "469/469 - 2s - loss: 0.5220 - accuracy: 0.8701 - val_loss: 0.4761 - val_accuracy: 0.8825 - 2s/epoch - 4ms/step\n",
            "Epoch 5/10\n",
            "469/469 - 2s - loss: 0.4854 - accuracy: 0.8755 - val_loss: 0.4474 - val_accuracy: 0.8872 - 2s/epoch - 4ms/step\n",
            "Epoch 6/10\n",
            "469/469 - 2s - loss: 0.4601 - accuracy: 0.8803 - val_loss: 0.4263 - val_accuracy: 0.8920 - 2s/epoch - 4ms/step\n",
            "Epoch 7/10\n",
            "469/469 - 1s - loss: 0.4413 - accuracy: 0.8836 - val_loss: 0.4108 - val_accuracy: 0.8937 - 1s/epoch - 3ms/step\n",
            "Epoch 8/10\n",
            "469/469 - 1s - loss: 0.4266 - accuracy: 0.8865 - val_loss: 0.3981 - val_accuracy: 0.8956 - 1s/epoch - 2ms/step\n",
            "Epoch 9/10\n",
            "469/469 - 1s - loss: 0.4148 - accuracy: 0.8892 - val_loss: 0.3880 - val_accuracy: 0.8971 - 1s/epoch - 2ms/step\n",
            "Epoch 10/10\n",
            "469/469 - 1s - loss: 0.4049 - accuracy: 0.8914 - val_loss: 0.3795 - val_accuracy: 0.8990 - 1s/epoch - 2ms/step\n",
            "79/79 - 0s - loss: 0.3795 - accuracy: 0.8990 - 128ms/epoch - 2ms/step\n",
            "Final test loss and accuracy : [0.3795233368873596, 0.8989999890327454]\n",
            "CPU times: user 14.9 s, sys: 793 ms, total: 15.7 s\n",
            "Wall time: 18.6 s\n"
          ]
        }
      ]
    },
    {
      "cell_type": "code",
      "source": [
        ""
      ],
      "metadata": {
        "id": "Ujdyxbh-5C51"
      },
      "execution_count": null,
      "outputs": []
    },
    {
      "cell_type": "code",
      "source": [
        ""
      ],
      "metadata": {
        "id": "GRWpYXy25uKo"
      },
      "execution_count": null,
      "outputs": []
    },
    {
      "cell_type": "code",
      "source": [
        "\n"
      ],
      "metadata": {
        "id": "E13zFX8t6Blc"
      },
      "execution_count": null,
      "outputs": []
    },
    {
      "cell_type": "code",
      "source": [
        ""
      ],
      "metadata": {
        "id": "95FlTBEc6n99"
      },
      "execution_count": null,
      "outputs": []
    },
    {
      "cell_type": "code",
      "source": [
        ""
      ],
      "metadata": {
        "id": "1JhQtuwX6tWS"
      },
      "execution_count": null,
      "outputs": []
    }
  ]
}